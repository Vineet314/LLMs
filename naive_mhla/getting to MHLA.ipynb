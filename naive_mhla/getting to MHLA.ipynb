{
 "cells": [
  {
   "cell_type": "code",
   "execution_count": null,
   "id": "1899df5f",
   "metadata": {},
   "outputs": [],
   "source": [
    "import os\n",
    "import torch \n",
    "import torch.nn as nn\n",
    "import torch.nn.functional as F\n",
    "from dataclasses import dataclass\n",
    "from math import sqrt"
   ]
  },
  {
   "cell_type": "code",
   "execution_count": null,
   "id": "69823ff7",
   "metadata": {},
   "outputs": [],
   "source": [
    "@dataclass\n",
    "class config:\n",
    "    # hyperparameters\n",
    "    batch_size : int # how many independent sequences will we process in parallel?\n",
    "    block_size : int  # what is the maximum context length for predictions?\n",
    "    vocab_size : int # OPTIM 4 (along with grad clipping) brought dt from 95 to 90\n",
    "\n",
    "    max_iters : int\n",
    "    eval_interval : int\n",
    "    learning_rate : float\n",
    "    warmup_steps : int\n",
    "    max_decay_steps : int\n",
    "\n",
    "    device : str\n",
    "    eval_iters : int\n",
    "    compile : bool #= False if os.name != 'posix' else True\n",
    "    save_model : bool\n",
    "\n",
    "    latent_dim : int\n",
    "    n_embd : int\n",
    "    n_head : int\n",
    "    n_layer : int\n",
    "    n_kv_heads : int # Set to 6 for MHA, 1 for MQA, or another divisor of n_head for GQA\n",
    "    dropout : float\n",
    "    total_batch_size : int\n",
    "\n",
    "MLAconfig = config(\n",
    "    # hyperparameters\n",
    "    batch_size = 4, # how many independent sequences will we process in parallel?\n",
    "    block_size = 1024, # what is the maximum context length for predictions?\n",
    "    vocab_size = 50304, # OPTIM 4 (along with grad clipping) brought dt from 95 to 90\n",
    "\n",
    "    max_iters = 500,\n",
    "    eval_interval = 50,\n",
    "    learning_rate = 3e-4,\n",
    "    warmup_steps = 25,\n",
    "    max_decay_steps = 75,\n",
    "\n",
    "    device = 'cuda' if torch.cuda.is_available() else 'cpu',\n",
    "    eval_iters = 200,\n",
    "    compile = False if os.name != 'posix' else True,\n",
    "    save_model = True,\n",
    "\n",
    "    n_embd = 768,\n",
    "    n_head = 8,\n",
    "    latent_dim = 32,\n",
    "    n_layer = 6,\n",
    "    n_kv_heads = 2, # Set to 6 for MHA, 1 for MQA, or another divisor of n_head for GQA\n",
    "    dropout = 0.2,\n",
    "    total_batch_size = 2**16)"
   ]
  },
  {
   "cell_type": "code",
   "execution_count": null,
   "id": "3f3093bb",
   "metadata": {},
   "outputs": [],
   "source": [
    "class MHLA(nn.Module):\n",
    "    def __init__(self, config:config):\n",
    "        super().__init__()\n",
    "        self.config = config\n",
    "        assert config.n_embd % config.n_head == 0, \"num of heads must be a divisor of n_embd\"\n",
    "        self.head_size = config.n_embd // config.n_head\n",
    "        # Projection layers\n",
    "        self.W_dq  = nn.Linear(config.n_embd,     config.latent_dim, bias=False)  # Query down projection\n",
    "        self.W_uq  = nn.Linear(config.latent_dim, config.n_embd,     bias=False)  # Query up projection\n",
    "        self.W_dkv = nn.Linear(config.n_embd,     config.latent_dim, bias=False)  # Compress into latent KV space\n",
    "        self.W_uk  = nn.Linear(config.latent_dim, config.n_embd,     bias=False)  # Decompress K\n",
    "        self.W_uv  = nn.Linear(config.latent_dim, config.n_embd,     bias=False)  # Decompress V\n",
    "        self.W_o   = nn.Linear(config.n_embd,     config.n_embd,     bias=False)  # Final output projection\n",
    "        # self.ln  = nn.LayerNorm(config.latent_dim)\n",
    "        self.dropout = nn.Dropout(config.dropout)\n",
    "        self.register_buffer('k_abs', None)\n",
    "        self.register_buffer('v_abs', None)\n",
    "        self.register_buffer('tril', torch.tril(torch.ones(config.block_size, config.block_size)).unsqueeze(0).unsqueeze(0))\n",
    "\n",
    "    def forward(self, x:torch.Tensor, kv_cache=None) -> torch.Tensor:\n",
    "\n",
    "        B, T, C = x.size()\n",
    "        nh , nl, hs = self.config.n_head, self.config.latent_dim, self.config.n_embd//self.config.n_head\n",
    "        if self.k_abs is None:\n",
    "            k_absorbed = self.W_dq.weight.T @ self.W_uk.weight.T @ self.W_uk.weight # (C,nl) x (nl,C) x (C,nl) = (C,nl)\n",
    "            self.k_abs = k_absorbed.view(nh, hs, nl).unsqueeze(0) # (1, nh, hs, nl)\n",
    "\n",
    "        if self.v_abs is None:\n",
    "            v_absorbed = self.W_uv.weight.T @ self.W_o.weight.T   # (nl, C) x (C, C) = (nl, C)\n",
    "            self.v_abs = v_absorbed.view(nl, nh, hs).transpose(0,1).unsqueeze(0) # (1, nh, nl, hs)\n",
    "        \n",
    "        new_c_kv = self.W_dkv(x)  # down projection : (B,T,C) -> (B,T,nl)\n",
    "        if kv_cache is None:\n",
    "            c_kv = new_c_kv # (B,T,nl) ; initiate cache\n",
    "        else:\n",
    "            c_kv = torch.cat([kv_cache, new_c_kv], dim=1) # append cache\n",
    "        \n",
    "        # Q*K^T = x * k_abs * c_kv^T   ### for variables, let q replace x, as q appears no where\n",
    "        # x -> (B,T,C)\n",
    "        q = x.view(B,T,nh,hs).transpose(1, 2) # (B,T,C) -> (B,T,nh,hs) -> (B, nh, T, hs)\n",
    "\n",
    "        # now we have everything to compute attention scores, attn = q * k_abs * c_kv^T \n",
    "        # (B, nh, T, hs) * (1, nh, hs, nl) * (B, 1, nl, T) = (B, nh, T, T)\n",
    "        # the following three steps can be made significatnly faster by avioding VRAM bottlenecks, perhaps by FlashMLA\n",
    "        attn = (q @ self.k_abs @ c_kv.transpose(1,2).unsqueeze(1)) / sqrt(hs) # (B, nh, T, T) # significatnly faster than **-0.5\n",
    "        attn = attn.masked_fill(self.tril[...,:T,:T] == 0, float('-inf'))\n",
    "        attn = self.dropout(F.softmax(attn, dim=-1))  # (B, nh, T, T)\n",
    "\n",
    "        # final output : attn @ C_kv @ v_abs \n",
    "        # (B, nh, T, T) * (B, 1, T, nl) * (1, nh, nl, hs) = (B, nh, T, hs)\n",
    "        y:torch.Tensor = attn @ c_kv.unsqueeze(1) @ self.v_abs  #(B, nh, T, hs)\n",
    "        y = self.dropout(y.transpose(1,2).contiguous().view(B,T,C))\n",
    "\n",
    "        return y, c_kv"
   ]
  },
  {
   "cell_type": "code",
   "execution_count": 26,
   "id": "4bd5842d",
   "metadata": {},
   "outputs": [],
   "source": [
    "mla = MHLA(MLAconfig)\n",
    "x = torch.randn(64, 19, 768)\n",
    "y = mla(x)"
   ]
  },
  {
   "cell_type": "code",
   "execution_count": 24,
   "id": "41b71890",
   "metadata": {},
   "outputs": [
    {
     "data": {
      "text/plain": [
       "torch.Size([64, 19, 768])"
      ]
     },
     "execution_count": 24,
     "metadata": {},
     "output_type": "execute_result"
    }
   ],
   "source": [
    "y.shape"
   ]
  },
  {
   "cell_type": "code",
   "execution_count": null,
   "id": "5dd1d675",
   "metadata": {},
   "outputs": [],
   "source": []
  }
 ],
 "metadata": {
  "kernelspec": {
   "display_name": "Python 3",
   "language": "python",
   "name": "python3"
  },
  "language_info": {
   "codemirror_mode": {
    "name": "ipython",
    "version": 3
   },
   "file_extension": ".py",
   "mimetype": "text/x-python",
   "name": "python",
   "nbconvert_exporter": "python",
   "pygments_lexer": "ipython3",
   "version": "3.10.6"
  }
 },
 "nbformat": 4,
 "nbformat_minor": 5
}
